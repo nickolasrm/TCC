{
 "cells": [
  {
   "cell_type": "code",
   "execution_count": null,
   "id": "29c8f8d3-411a-4c4f-89b1-8165e56a7ec3",
   "metadata": {},
   "outputs": [],
   "source": [
    "from keras.data"
   ]
  }
 ],
 "metadata": {
  "kernelspec": {
   "display_name": "Python 3 (ipykernel)",
   "language": "python",
   "name": "python3"
  },
  "language_info": {
   "codemirror_mode": {
    "name": "ipython",
    "version": 3
   },
   "file_extension": ".py",
   "mimetype": "text/x-python",
   "name": "python",
   "nbconvert_exporter": "python",
   "pygments_lexer": "ipython3",
   "version": "3.9.13"
  }
 },
 "nbformat": 4,
 "nbformat_minor": 5
}

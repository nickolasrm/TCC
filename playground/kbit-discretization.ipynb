{
 "cells": [
  {
   "cell_type": "code",
   "execution_count": 2,
   "id": "9b2f0754-de43-448c-9080-59168ca8ca3b",
   "metadata": {},
   "outputs": [],
   "source": [
    "import tensorflow as tf\n",
    "import numpy as np"
   ]
  },
  {
   "cell_type": "code",
   "execution_count": 122,
   "id": "f9658cd1-333a-4697-9107-faa2f6d4fa3a",
   "metadata": {},
   "outputs": [
    {
     "data": {
      "text/plain": [
       "<tf.Tensor: shape=(2, 5), dtype=float64, numpy=\n",
       "array([[-0.4,  0.1,  0.6,  1.1,  1.2],\n",
       "       [ 0.1,  0.1,  0.1,  0.1,  0.1]])>"
      ]
     },
     "execution_count": 122,
     "metadata": {},
     "output_type": "execute_result"
    }
   ],
   "source": [
    "arr = tf.constant(np.array([[-0.4, 0.1, 0.6, 1.1, 1.2], [0.1, 0.1, 0.1, 0.1, 0.1]]))\n",
    "arr"
   ]
  },
  {
   "cell_type": "code",
   "execution_count": 25,
   "id": "ed2b9ceb-2e0a-4a1d-8cce-b03c31056fe5",
   "metadata": {},
   "outputs": [],
   "source": [
    "from keras.layers import Discretization, Flatten"
   ]
  },
  {
   "cell_type": "code",
   "execution_count": 188,
   "id": "fe6f376a-f86f-49f0-b3ab-17346410fbe1",
   "metadata": {},
   "outputs": [],
   "source": [
    "boundaries = [0.0, 0.5, 1.0]\n",
    "quant = Discretization(bin_boundaries=boundaries, output_mode=\"int\")"
   ]
  },
  {
   "cell_type": "code",
   "execution_count": 220,
   "id": "bf8fe8d9-4958-408a-93e7-96d96b6e003e",
   "metadata": {},
   "outputs": [
    {
     "data": {
      "text/plain": [
       "<tf.Tensor: shape=(2, 20), dtype=float32, numpy=\n",
       "array([[1., 0., 0., 0., 0., 1., 0., 0., 1., 0., 0., 0., 1., 0., 0., 0.,\n",
       "        1., 0., 0., 1.],\n",
       "       [0., 0., 0., 0., 0., 1., 0., 0., 1., 0., 0., 1., 0., 0., 1., 0.,\n",
       "        0., 1., 0., 0.]], dtype=float32)>"
      ]
     },
     "execution_count": 220,
     "metadata": {},
     "output_type": "execute_result"
    }
   ],
   "source": [
    "quantized = quant(tf.abs(arr)) - 1\n",
    "one_hot = to_categorical(quantized, num_classes=len(boundaries))\n",
    "shape = [*one_hot.shape[:-2], int(tf.reduce_prod(one_hot.shape[-2:]))]\n",
    "result = tf.reshape(one_hot, shape)\n",
    "\n",
    "sign = tf.where(arr < 0, 1., 0.)\n",
    "signed_result = tf.concat([sign, result], axis=1)\n",
    "signed_result"
   ]
  }
 ],
 "metadata": {
  "kernelspec": {
   "display_name": "Python 3 (ipykernel)",
   "language": "python",
   "name": "python3"
  },
  "language_info": {
   "codemirror_mode": {
    "name": "ipython",
    "version": 3
   },
   "file_extension": ".py",
   "mimetype": "text/x-python",
   "name": "python",
   "nbconvert_exporter": "python",
   "pygments_lexer": "ipython3",
   "version": "3.9.13"
  }
 },
 "nbformat": 4,
 "nbformat_minor": 5
}
